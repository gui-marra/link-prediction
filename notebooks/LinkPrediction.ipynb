{
 "cells": [
  {
   "cell_type": "code",
   "execution_count": null,
   "metadata": {
    "scrolled": false
   },
   "outputs": [],
   "source": [
    "%pip install xgboost # (GPU supported)\n",
    "%conda install numpy \n",
    "%conda install pandas\n",
    "%conda install -c anaconda scikit-learn \n",
    "%conda install networkx\n",
    "%conda install -c conda-forge node2vec \n",
    "%conda install -c conda-forge tpot\n",
    "%conda install -c conda-forge ipywidgets\n",
    "%conda install pytorch torchvision -c pytorch"
   ]
  },
  {
   "cell_type": "code",
   "execution_count": 231,
   "metadata": {},
   "outputs": [],
   "source": [
    "import os\n",
    "import sys\n",
    "import numpy as np \n",
    "import pandas as pd\n",
    "import networkx as nx\n",
    "import scipy\n",
    "\n",
    "sys.path.insert(0, '../src')\n",
    "import file_io"
   ]
  },
  {
   "cell_type": "markdown",
   "metadata": {},
   "source": [
    "# Summary\n",
    "\n",
    "This notebook consists of an explorative analysis of the problem of predicting links in web pages. Input data:  \n",
    "* pairs of pages (two nodes in a graph) and a boolean variable indicating if there is a link (an edge) between them.  \n",
    "* text of all pages\n",
    "\n",
    "This way the strategy to approach this problem is first to extract as much relevant information as possible from the inputs, that is, to engineer features for the graph and for the text of the pages, and then to train and tune a classification model.  The problem is thus divided:\n",
    "\n",
    "##### Feature Engineering\n",
    "1. Networkx Link Prediction Features\n",
    "2. Node embedding Features\n",
    "3. Text Features\n",
    "\n",
    "##### Classification Models\n",
    "4. Miscellaneous Classifiers\n",
    "5. XGBoost\n",
    "\n",
    "##### Prediction\n",
    "6. Submission prediction\n",
    "\n"
   ]
  },
  {
   "cell_type": "markdown",
   "metadata": {},
   "source": [
    "#### Load Initial Data "
   ]
  },
  {
   "cell_type": "code",
   "execution_count": null,
   "metadata": {},
   "outputs": [],
   "source": [
    "links = pd.read_csv('../data/raw/training.txt', header = None, sep = ' ', names = ['node', 'target', 'edge'])\n",
    "X = links[['node', 'target']]\n",
    "y = links['edge']"
   ]
  },
  {
   "cell_type": "markdown",
   "metadata": {},
   "source": [
    "## 1. Networkx Link Prediction Features"
   ]
  },
  {
   "cell_type": "markdown",
   "metadata": {},
   "source": [
    "### Feature Engineering\n",
    "1.1 Split the dataset <br/>\n",
    "1.2 Create graph connections with the training set <br/>\n",
    "1.3 Predict new coefficients for training and test set (feature generation)\n",
    "\n"
   ]
  },
  {
   "cell_type": "code",
   "execution_count": null,
   "metadata": {},
   "outputs": [],
   "source": [
    "def CreateGraph (X, y, directed = False):\n",
    "    \n",
    "    if directed:\n",
    "        G = nx.from_pandas_edgelist(X, 'node', 'target', create_using=nx.DiGraph())\n",
    "    else:    \n",
    "        G = nx.from_pandas_edgelist(X[y == 1], 'node', 'target', create_using=nx.Graph())\n",
    "        \n",
    "    G.add_nodes_from(range(33226))\n",
    "    \n",
    "    return G"
   ]
  },
  {
   "cell_type": "code",
   "execution_count": null,
   "metadata": {},
   "outputs": [],
   "source": [
    "def AppendNextworkxFeature (function, G, X):\n",
    "    \n",
    "    column_name = str(function).split()[1]\n",
    "    \n",
    "    tuple_list = list(X[['node','target']].itertuples(index=False, name=None))\n",
    "    coef_generator = function(G, tuple_list)\n",
    "    coef_df = pd.DataFrame(coef_generator)\n",
    "    X.insert(2, column_name, list(coef_df[2]), allow_duplicates = True)\n"
   ]
  },
  {
   "cell_type": "code",
   "execution_count": null,
   "metadata": {},
   "outputs": [],
   "source": [
    "def nxGenerateFeatures (X_train, X_test, y_train):\n",
    "    \n",
    "    # 1.2 Create Graph\n",
    "    # Total number of nodes=pages: 33.226\n",
    "    G = CreateGraph (X_train, y_train)\n",
    "    \n",
    "    # 1.3 Predict new coefficient/feature for defined link prediction function\n",
    "    linkPredictionFunctions = [nx.resource_allocation_index, nx.jaccard_coefficient, nx.adamic_adar_index, nx.preferential_attachment]\n",
    "    for function in linkPredictionFunctions:\n",
    "        AppendNextworkxFeature(function, G, X_train)\n",
    "        AppendNextworkxFeature(function, G, X_test)\n",
    "        \n",
    "    return X_train, X_test"
   ]
  },
  {
   "cell_type": "code",
   "execution_count": null,
   "metadata": {},
   "outputs": [],
   "source": [
    "# 1.1 Stratified Split \n",
    "from sklearn.model_selection import train_test_split\n",
    "X_train, X_test, y_train, y_test = train_test_split(X, y, test_size=0.20, random_state=42)"
   ]
  },
  {
   "cell_type": "code",
   "execution_count": null,
   "metadata": {},
   "outputs": [],
   "source": [
    "# 1.2 and 1.3 Generate features\n",
    "X_train, X_test = nxGenerateFeatures (X_train, X_test, y_train)\n",
    "\n",
    "# Save Networkx Intermediate Results\n",
    "file_io.SaveData('../data/intermediate/networkx/', X_train, X_test, y_train, y_test)"
   ]
  },
  {
   "cell_type": "code",
   "execution_count": null,
   "metadata": {},
   "outputs": [],
   "source": [
    "# Load Networkx Intermediate Results\n",
    "X_train, X_test, y_train, y_test = file_io.LoadData('../data/intermediate/networkx/')"
   ]
  },
  {
   "cell_type": "markdown",
   "metadata": {},
   "source": [
    "# 2. Node embedding features "
   ]
  },
  {
   "cell_type": "markdown",
   "metadata": {},
   "source": [
    "### Feature Engineering\n",
    "2.1. Fit node2vec model to the graph, and embed it's edges <br/>\n",
    "2.2. Apply the model to train and test set (feature generation)"
   ]
  },
  {
   "cell_type": "code",
   "execution_count": null,
   "metadata": {},
   "outputs": [],
   "source": [
    "from numpy import linalg as LA\n",
    "from gensim.models import Word2Vec\n",
    "from node2vec import Node2Vec\n",
    "from node2vec.edges import HadamardEmbedder"
   ]
  },
  {
   "cell_type": "code",
   "execution_count": null,
   "metadata": {},
   "outputs": [],
   "source": [
    "def node2VecGenerateFeatures(X_train, X_test, y_train, savePath = None, loadPath = None, workers = 1):\n",
    "    \n",
    "    DG = CreateGraph(X_train, y_train, directed = True)\n",
    "\n",
    "    # 2.1 Fit or Load model\n",
    "    if loadPath:\n",
    "        model = Word2Vec.load(loadPath)\n",
    "    else:\n",
    "        node2vec = Node2Vec(DG, dimensions=20, walk_length=16, num_walks=100, workers=workers)\n",
    "        model = node2vec.fit(window=4, min_count=1)\n",
    "        if savePath:\n",
    "            model.save(savePath)\n",
    "\n",
    "            \n",
    "    # Embed edges using Hadamard Embedder\n",
    "    edges_embs = HadamardEmbedder(keyed_vectors=model.wv)\n",
    "\n",
    "\n",
    "    # 2.2 Apply embedding to each element\n",
    "    emb_train = [ edges_embs[(str(i), str(j))] for i,j in zip(X_train['node'], X_train['target'])]\n",
    "    emb_test = [ edges_embs[(str(i), str(j))] for i,j in zip(X_test['node'], X_test['target'])]\n",
    "    \n",
    "    X_train['edge_norm'] = [LA.norm(v) for v in emb_train]\n",
    "    X_test['edge_norm'] = [LA.norm(v) for v in emb_test]\n",
    "\n",
    "    return X_train, X_test"
   ]
  },
  {
   "cell_type": "code",
   "execution_count": null,
   "metadata": {},
   "outputs": [],
   "source": [
    "try:\n",
    "    X_train, X_test = node2VecGenerateFeatures(X_train, X_test, y_train, loadPath = '../results/models/node2vec/emb1_train.model')\n",
    "except Exception:\n",
    "    X_train, X_test = node2VecGenerateFeatures(X_train, X_test, y_train, savePath = '../results/models/node2vec/emb1_train.model', workers = 12)\n",
    "    pass\n",
    "\n",
    "# Save Node2Vec Intermediate Results\n",
    "file_io.SaveData('../data/intermediate/node2vec/', X_train, X_test, y_train, y_test)"
   ]
  },
  {
   "cell_type": "code",
   "execution_count": 89,
   "metadata": {},
   "outputs": [],
   "source": [
    "# Load Node2Vec Intermediate Data\n",
    "X_train, X_test, y_train, y_test = file_io.LoadData('../data/intermediate/node2vec/')"
   ]
  },
  {
   "cell_type": "markdown",
   "metadata": {},
   "source": [
    "# 3. Doc2Vec "
   ]
  },
  {
   "cell_type": "markdown",
   "metadata": {},
   "source": [
    "### Feature Engineering"
   ]
  },
  {
   "cell_type": "markdown",
   "metadata": {},
   "source": [
    "2.1. Load doc2vec embedding model trained in 'TextFeatures' notebook  <br/>\n",
    "2.2. Apply the model to train and test set (feature generation)"
   ]
  },
  {
   "cell_type": "code",
   "execution_count": 8,
   "metadata": {},
   "outputs": [],
   "source": [
    "# Vectorization Options: TF-IDF or doc2vec \n",
    "# Format Options: concatenating nodes or cosine similarity "
   ]
  },
  {
   "cell_type": "code",
   "execution_count": null,
   "metadata": {},
   "outputs": [],
   "source": [
    "from numpy import linalg as LA\n",
    "from gensim.models.doc2vec import Doc2Vec"
   ]
  },
  {
   "cell_type": "code",
   "execution_count": 73,
   "metadata": {},
   "outputs": [],
   "source": [
    "def doc2vecGenerateFeatures (X_train, X_test, loadPath, similarity = False):\n",
    "    \n",
    "    # 3.1 Load Model \n",
    "    model = Doc2Vec.load(loadPath) \n",
    "    \n",
    "    # 3.2 Apply embedding to each element\n",
    "    if similarity:\n",
    "        vec_train = [ LA.norm(model.infer_vector([str(i)]) * model.infer_vector([str(j)])) for i, j in zip(X_train['node'], X_train['target']) ]\n",
    "        vec_test = [ LA.norm(model.infer_vector([str(i)]) *  model.infer_vector([str(j)])) for i, j in zip(X_test['node'], X_test['target']) ]\n",
    "        \n",
    "    else:\n",
    "        vec_train = [ model.infer_vector([str(i), str(j)]) for i, j in zip(X_train['node'], X_train['target']) ]\n",
    "        vec_test = [ model.infer_vector([str(i), str(j)]) for i, j in zip(X_test['node'], X_test['target']) ]\n",
    "    \n",
    "    X_train = X_train.join(pd.DataFrame(vec_train))\n",
    "    X_test = X_test.join(pd.DataFrame(vec_test))\n",
    "    \n",
    "    return X_train, X_test"
   ]
  },
  {
   "cell_type": "code",
   "execution_count": 74,
   "metadata": {},
   "outputs": [],
   "source": [
    "X_train, X_test = doc2vecGenerateFeatures(X_train, X_test, loadPath=\"../results/models/doc2vec/vec10.model\", similarity=False)\n",
    "\n",
    "# Save Doc2Vec Intermediate Results\n",
    "file_io.SaveData('../data/intermediate/doc2vec/', X_train, X_test, y_train, y_test)"
   ]
  },
  {
   "cell_type": "code",
   "execution_count": 11,
   "metadata": {},
   "outputs": [],
   "source": [
    "# Load Doc2Vec Intermediate Data\n",
    "X_train, X_test, y_train, y_test = file_io.LoadData('../data/intermediate/doc2vec/')"
   ]
  },
  {
   "cell_type": "markdown",
   "metadata": {},
   "source": [
    "# TF-IDF"
   ]
  },
  {
   "cell_type": "markdown",
   "metadata": {},
   "source": [
    "### Applying Truncated SVD on tf-idf"
   ]
  },
  {
   "cell_type": "code",
   "execution_count": 114,
   "metadata": {},
   "outputs": [],
   "source": [
    "from sklearn.metrics.pairwise import cosine_similarity as CS\n",
    "from sklearn.decomposition import TruncatedSVD "
   ]
  },
  {
   "cell_type": "code",
   "execution_count": 16,
   "metadata": {},
   "outputs": [
    {
     "data": {
      "text/plain": [
       "TruncatedSVD(n_components=100, n_iter=100, random_state=42)"
      ]
     },
     "execution_count": 16,
     "metadata": {},
     "output_type": "execute_result"
    }
   ],
   "source": [
    "svd = TruncatedSVD(n_components=100, n_iter=100, random_state=42)\n",
    "svd.fit(td_idf)\n",
    "\n",
    "feature_matrix = svd.transform(td_idf)\n",
    "feature_matrix.to_csv (\"../results/models/tf-idf/svd.csv\", sep=',', index=False)\n",
    "pd.DataFrame(feature_matrix).to_csv(\"../results/models/tf-idf/svd.csv\", sep=',', index=False, header=False)"
   ]
  },
  {
   "cell_type": "markdown",
   "metadata": {},
   "source": [
    "### Feature Generation"
   ]
  },
  {
   "cell_type": "code",
   "execution_count": null,
   "metadata": {},
   "outputs": [],
   "source": [
    "import similarity"
   ]
  },
  {
   "cell_type": "code",
   "execution_count": 218,
   "metadata": {},
   "outputs": [],
   "source": [
    "def tfidfGenerateFeatures (X_train, X_test):\n",
    "    \n",
    "    X_train, X_test = appendCosineSimilarity(X_train, X_test)\n",
    "    X_train, X_test = appendTS_SS(X_train, X_test)\n",
    "    X_train, X_test = appendDimensionZero(X_train, X_test)\n",
    "    \n",
    "    return X_train, X_test"
   ]
  },
  {
   "cell_type": "code",
   "execution_count": 219,
   "metadata": {},
   "outputs": [],
   "source": [
    "def appendCosineSimilarity (X_train, X_test):\n",
    "    \n",
    "    td_idf = scipy.sparse.load_npz(\"../results/models/tf-idf/emb_matrix.npz\")   \n",
    "    \n",
    "    cosine_similarity_train = [ CS(tf_idf[i], tf_idf[j])[0][0] for i, j in zip(X_train['node'], X_train['target']) ]\n",
    "    cosine_similarity_test  = [ CS(tf_idf[i], tf_idf[j])[0][0] for i, j in zip(X_test['node'], X_test['target']) ]\n",
    "    \n",
    "    X_test = X_test.join(pd.DataFrame(cosine_similarity_test))\n",
    "    X_train = X_train.join(pd.DataFrame(cosine_similarity_train))\n",
    "    \n",
    "    return X_train, X_test"
   ]
  },
  {
   "cell_type": "code",
   "execution_count": 220,
   "metadata": {},
   "outputs": [],
   "source": [
    "def appendTS_SS(X_train, X_test):\n",
    "    \n",
    "    svd_matrix = np.genfromtxt(\"../results/models/tf-idf/svd.csv\", delimiter=',')\n",
    "    ts_ss = similarity.TS_SS()\n",
    "    \n",
    "    ts_score_train = [ ts_ss(svd_matrix[i], svd_matrix[j])*10e4 for i, j in zip(X_train['node'], X_train['target']) ]\n",
    "    ts_score_test = [ ts_ss(svd_matrix[i], svd_matrix[j])*10e4 for i, j in zip(X_test['node'], X_test['target']) ]\n",
    "    \n",
    "    X_train = X_train.join(pd.DataFrame(ts_score_train))\n",
    "    X_test = X_test.join(pd.DataFrame(ts_score_test))\n",
    "    \n",
    "    X_train = X_train.fillna(value=0)\n",
    "    X_test = X_test.fillna(value=0)\n",
    "        \n",
    "    return X_train, X_test"
   ]
  },
  {
   "cell_type": "code",
   "execution_count": 221,
   "metadata": {},
   "outputs": [],
   "source": [
    "# dimension with most variance by a large amount (17%)\n",
    "def appendDimensionZero(X_train, X_test):\n",
    "    \n",
    "    svd_matrix = np.genfromtxt(\"../results/models/tf-idf/svd.csv\", delimiter=',')\n",
    "    \n",
    "    dim0_train = [ [svd_matrix[i][0], svd_matrix[j][0]] for i, j in zip(X_train['node'], X_train['target']) ]\n",
    "    dim0_test = [ [svd_matrix[i][0], svd_matrix[j][0]] for i, j in zip(X_test['node'], X_test['target']) ]\n",
    "    \n",
    "    X_train = X_train.join(pd.DataFrame(dim0_train))\n",
    "    X_test = X_test.join(pd.DataFrame(dim0_test))\n",
    "        \n",
    "    return X_train, X_test"
   ]
  },
  {
   "cell_type": "code",
   "execution_count": 201,
   "metadata": {},
   "outputs": [],
   "source": [
    "X_train, X_test = tfidfGenerateFeatures(X_train, X_test)\n",
    "\n",
    "# Save tf-idf Intermediate Results\n",
    "file_io.SaveData('../data/intermediate/tf-idf/', X_train, X_test, y_train, y_test)"
   ]
  },
  {
   "cell_type": "code",
   "execution_count": 256,
   "metadata": {},
   "outputs": [],
   "source": [
    "# Load tf-idf Intermediate Data\n",
    "X_train, X_test, y_train, y_test = file_io.LoadData('../data/intermediate/tf-idf/')"
   ]
  },
  {
   "cell_type": "code",
   "execution_count": 258,
   "metadata": {},
   "outputs": [
    {
     "data": {
      "text/html": [
       "<div>\n",
       "<style scoped>\n",
       "    .dataframe tbody tr th:only-of-type {\n",
       "        vertical-align: middle;\n",
       "    }\n",
       "\n",
       "    .dataframe tbody tr th {\n",
       "        vertical-align: top;\n",
       "    }\n",
       "\n",
       "    .dataframe thead th {\n",
       "        text-align: right;\n",
       "    }\n",
       "</style>\n",
       "<table border=\"1\" class=\"dataframe\">\n",
       "  <thead>\n",
       "    <tr style=\"text-align: right;\">\n",
       "      <th></th>\n",
       "      <th>node</th>\n",
       "      <th>target</th>\n",
       "      <th>preferential_attachment</th>\n",
       "      <th>adamic_adar_index</th>\n",
       "      <th>jaccard_coefficient</th>\n",
       "      <th>resource_allocation_index</th>\n",
       "      <th>edge_norm</th>\n",
       "      <th>cosine_sim</th>\n",
       "      <th>ts-sd_sim</th>\n",
       "      <th>dim0_node</th>\n",
       "      <th>dim0_target</th>\n",
       "    </tr>\n",
       "  </thead>\n",
       "  <tbody>\n",
       "    <tr>\n",
       "      <th>0</th>\n",
       "      <td>9154</td>\n",
       "      <td>9156</td>\n",
       "      <td>176</td>\n",
       "      <td>0.276938</td>\n",
       "      <td>0.038462</td>\n",
       "      <td>0.027027</td>\n",
       "      <td>64.282600</td>\n",
       "      <td>0.052576</td>\n",
       "      <td>1.963639</td>\n",
       "      <td>0.046559</td>\n",
       "      <td>0.107186</td>\n",
       "    </tr>\n",
       "    <tr>\n",
       "      <th>1</th>\n",
       "      <td>29190</td>\n",
       "      <td>8765</td>\n",
       "      <td>7596</td>\n",
       "      <td>0.291149</td>\n",
       "      <td>0.003110</td>\n",
       "      <td>0.002704</td>\n",
       "      <td>25.108105</td>\n",
       "      <td>0.020930</td>\n",
       "      <td>0.324289</td>\n",
       "      <td>0.022191</td>\n",
       "      <td>0.098541</td>\n",
       "    </tr>\n",
       "    <tr>\n",
       "      <th>2</th>\n",
       "      <td>3239</td>\n",
       "      <td>16566</td>\n",
       "      <td>468</td>\n",
       "      <td>0.402430</td>\n",
       "      <td>0.006329</td>\n",
       "      <td>0.083333</td>\n",
       "      <td>34.456039</td>\n",
       "      <td>0.000000</td>\n",
       "      <td>23.894162</td>\n",
       "      <td>0.075035</td>\n",
       "      <td>0.063937</td>\n",
       "    </tr>\n",
       "    <tr>\n",
       "      <th>3</th>\n",
       "      <td>1294</td>\n",
       "      <td>3248</td>\n",
       "      <td>1666</td>\n",
       "      <td>0.000000</td>\n",
       "      <td>0.000000</td>\n",
       "      <td>0.000000</td>\n",
       "      <td>42.016335</td>\n",
       "      <td>0.022219</td>\n",
       "      <td>0.177283</td>\n",
       "      <td>0.091759</td>\n",
       "      <td>0.052942</td>\n",
       "    </tr>\n",
       "    <tr>\n",
       "      <th>4</th>\n",
       "      <td>21519</td>\n",
       "      <td>32895</td>\n",
       "      <td>1</td>\n",
       "      <td>0.000000</td>\n",
       "      <td>0.000000</td>\n",
       "      <td>0.000000</td>\n",
       "      <td>13.273260</td>\n",
       "      <td>0.023132</td>\n",
       "      <td>0.700459</td>\n",
       "      <td>0.093862</td>\n",
       "      <td>0.310950</td>\n",
       "    </tr>\n",
       "    <tr>\n",
       "      <th>...</th>\n",
       "      <td>...</td>\n",
       "      <td>...</td>\n",
       "      <td>...</td>\n",
       "      <td>...</td>\n",
       "      <td>...</td>\n",
       "      <td>...</td>\n",
       "      <td>...</td>\n",
       "      <td>...</td>\n",
       "      <td>...</td>\n",
       "      <td>...</td>\n",
       "      <td>...</td>\n",
       "    </tr>\n",
       "    <tr>\n",
       "      <th>363032</th>\n",
       "      <td>1297</td>\n",
       "      <td>326</td>\n",
       "      <td>540</td>\n",
       "      <td>0.000000</td>\n",
       "      <td>0.000000</td>\n",
       "      <td>0.000000</td>\n",
       "      <td>45.105350</td>\n",
       "      <td>0.000000</td>\n",
       "      <td>19.816420</td>\n",
       "      <td>0.061245</td>\n",
       "      <td>0.075035</td>\n",
       "    </tr>\n",
       "    <tr>\n",
       "      <th>363033</th>\n",
       "      <td>4688</td>\n",
       "      <td>24489</td>\n",
       "      <td>549</td>\n",
       "      <td>0.264754</td>\n",
       "      <td>0.029412</td>\n",
       "      <td>0.001621</td>\n",
       "      <td>23.119017</td>\n",
       "      <td>0.008226</td>\n",
       "      <td>1.764656</td>\n",
       "      <td>0.232740</td>\n",
       "      <td>0.086408</td>\n",
       "    </tr>\n",
       "    <tr>\n",
       "      <th>363034</th>\n",
       "      <td>6839</td>\n",
       "      <td>15644</td>\n",
       "      <td>21</td>\n",
       "      <td>0.000000</td>\n",
       "      <td>0.000000</td>\n",
       "      <td>0.000000</td>\n",
       "      <td>78.053436</td>\n",
       "      <td>0.058819</td>\n",
       "      <td>0.926527</td>\n",
       "      <td>0.429360</td>\n",
       "      <td>0.152573</td>\n",
       "    </tr>\n",
       "    <tr>\n",
       "      <th>363035</th>\n",
       "      <td>2344</td>\n",
       "      <td>12969</td>\n",
       "      <td>35</td>\n",
       "      <td>0.000000</td>\n",
       "      <td>0.000000</td>\n",
       "      <td>0.000000</td>\n",
       "      <td>73.209030</td>\n",
       "      <td>0.004716</td>\n",
       "      <td>5.311109</td>\n",
       "      <td>0.182028</td>\n",
       "      <td>0.085798</td>\n",
       "    </tr>\n",
       "    <tr>\n",
       "      <th>363036</th>\n",
       "      <td>7706</td>\n",
       "      <td>4918</td>\n",
       "      <td>54205</td>\n",
       "      <td>1.918590</td>\n",
       "      <td>0.006702</td>\n",
       "      <td>0.066247</td>\n",
       "      <td>11.547066</td>\n",
       "      <td>0.056512</td>\n",
       "      <td>0.215515</td>\n",
       "      <td>0.111493</td>\n",
       "      <td>0.092022</td>\n",
       "    </tr>\n",
       "  </tbody>\n",
       "</table>\n",
       "<p>363037 rows × 11 columns</p>\n",
       "</div>"
      ],
      "text/plain": [
       "         node  target  preferential_attachment  adamic_adar_index  \\\n",
       "0        9154    9156                      176           0.276938   \n",
       "1       29190    8765                     7596           0.291149   \n",
       "2        3239   16566                      468           0.402430   \n",
       "3        1294    3248                     1666           0.000000   \n",
       "4       21519   32895                        1           0.000000   \n",
       "...       ...     ...                      ...                ...   \n",
       "363032   1297     326                      540           0.000000   \n",
       "363033   4688   24489                      549           0.264754   \n",
       "363034   6839   15644                       21           0.000000   \n",
       "363035   2344   12969                       35           0.000000   \n",
       "363036   7706    4918                    54205           1.918590   \n",
       "\n",
       "        jaccard_coefficient  resource_allocation_index  edge_norm  cosine_sim  \\\n",
       "0                  0.038462                   0.027027  64.282600    0.052576   \n",
       "1                  0.003110                   0.002704  25.108105    0.020930   \n",
       "2                  0.006329                   0.083333  34.456039    0.000000   \n",
       "3                  0.000000                   0.000000  42.016335    0.022219   \n",
       "4                  0.000000                   0.000000  13.273260    0.023132   \n",
       "...                     ...                        ...        ...         ...   \n",
       "363032             0.000000                   0.000000  45.105350    0.000000   \n",
       "363033             0.029412                   0.001621  23.119017    0.008226   \n",
       "363034             0.000000                   0.000000  78.053436    0.058819   \n",
       "363035             0.000000                   0.000000  73.209030    0.004716   \n",
       "363036             0.006702                   0.066247  11.547066    0.056512   \n",
       "\n",
       "        ts-sd_sim  dim0_node  dim0_target  \n",
       "0        1.963639   0.046559     0.107186  \n",
       "1        0.324289   0.022191     0.098541  \n",
       "2       23.894162   0.075035     0.063937  \n",
       "3        0.177283   0.091759     0.052942  \n",
       "4        0.700459   0.093862     0.310950  \n",
       "...           ...        ...          ...  \n",
       "363032  19.816420   0.061245     0.075035  \n",
       "363033   1.764656   0.232740     0.086408  \n",
       "363034   0.926527   0.429360     0.152573  \n",
       "363035   5.311109   0.182028     0.085798  \n",
       "363036   0.215515   0.111493     0.092022  \n",
       "\n",
       "[363037 rows x 11 columns]"
      ]
     },
     "execution_count": 258,
     "metadata": {},
     "output_type": "execute_result"
    }
   ],
   "source": [
    "X_train"
   ]
  },
  {
   "cell_type": "code",
   "execution_count": 259,
   "metadata": {},
   "outputs": [
    {
     "data": {
      "text/html": [
       "<div>\n",
       "<style scoped>\n",
       "    .dataframe tbody tr th:only-of-type {\n",
       "        vertical-align: middle;\n",
       "    }\n",
       "\n",
       "    .dataframe tbody tr th {\n",
       "        vertical-align: top;\n",
       "    }\n",
       "\n",
       "    .dataframe thead th {\n",
       "        text-align: right;\n",
       "    }\n",
       "</style>\n",
       "<table border=\"1\" class=\"dataframe\">\n",
       "  <thead>\n",
       "    <tr style=\"text-align: right;\">\n",
       "      <th></th>\n",
       "      <th>node</th>\n",
       "      <th>target</th>\n",
       "      <th>preferential_attachment</th>\n",
       "      <th>adamic_adar_index</th>\n",
       "      <th>jaccard_coefficient</th>\n",
       "      <th>resource_allocation_index</th>\n",
       "      <th>edge_norm</th>\n",
       "      <th>cosine_sim</th>\n",
       "      <th>ts-sd_sim</th>\n",
       "      <th>dim0_node</th>\n",
       "      <th>dim0_target</th>\n",
       "    </tr>\n",
       "  </thead>\n",
       "  <tbody>\n",
       "    <tr>\n",
       "      <th>0</th>\n",
       "      <td>13912</td>\n",
       "      <td>14283</td>\n",
       "      <td>810</td>\n",
       "      <td>0.000000</td>\n",
       "      <td>0.00000</td>\n",
       "      <td>0.000000</td>\n",
       "      <td>23.111849</td>\n",
       "      <td>0.055539</td>\n",
       "      <td>0.700737</td>\n",
       "      <td>0.086306</td>\n",
       "      <td>0.095132</td>\n",
       "    </tr>\n",
       "    <tr>\n",
       "      <th>1</th>\n",
       "      <td>10994</td>\n",
       "      <td>6227</td>\n",
       "      <td>147</td>\n",
       "      <td>0.000000</td>\n",
       "      <td>0.00000</td>\n",
       "      <td>0.000000</td>\n",
       "      <td>44.643867</td>\n",
       "      <td>0.013747</td>\n",
       "      <td>0.416898</td>\n",
       "      <td>0.081833</td>\n",
       "      <td>0.049614</td>\n",
       "    </tr>\n",
       "    <tr>\n",
       "      <th>2</th>\n",
       "      <td>14438</td>\n",
       "      <td>15220</td>\n",
       "      <td>2938</td>\n",
       "      <td>1.660754</td>\n",
       "      <td>0.03913</td>\n",
       "      <td>0.039941</td>\n",
       "      <td>31.180311</td>\n",
       "      <td>0.321913</td>\n",
       "      <td>0.140764</td>\n",
       "      <td>0.121149</td>\n",
       "      <td>0.079714</td>\n",
       "    </tr>\n",
       "    <tr>\n",
       "      <th>3</th>\n",
       "      <td>3222</td>\n",
       "      <td>503</td>\n",
       "      <td>8188</td>\n",
       "      <td>0.000000</td>\n",
       "      <td>0.00000</td>\n",
       "      <td>0.000000</td>\n",
       "      <td>20.721487</td>\n",
       "      <td>0.001409</td>\n",
       "      <td>25.190176</td>\n",
       "      <td>0.118007</td>\n",
       "      <td>0.097055</td>\n",
       "    </tr>\n",
       "    <tr>\n",
       "      <th>4</th>\n",
       "      <td>5986</td>\n",
       "      <td>5482</td>\n",
       "      <td>264</td>\n",
       "      <td>0.000000</td>\n",
       "      <td>0.00000</td>\n",
       "      <td>0.000000</td>\n",
       "      <td>48.946613</td>\n",
       "      <td>0.000000</td>\n",
       "      <td>0.000000</td>\n",
       "      <td>0.000000</td>\n",
       "      <td>0.076010</td>\n",
       "    </tr>\n",
       "    <tr>\n",
       "      <th>...</th>\n",
       "      <td>...</td>\n",
       "      <td>...</td>\n",
       "      <td>...</td>\n",
       "      <td>...</td>\n",
       "      <td>...</td>\n",
       "      <td>...</td>\n",
       "      <td>...</td>\n",
       "      <td>...</td>\n",
       "      <td>...</td>\n",
       "      <td>...</td>\n",
       "      <td>...</td>\n",
       "    </tr>\n",
       "    <tr>\n",
       "      <th>90755</th>\n",
       "      <td>10346</td>\n",
       "      <td>3066</td>\n",
       "      <td>99</td>\n",
       "      <td>0.000000</td>\n",
       "      <td>0.00000</td>\n",
       "      <td>0.000000</td>\n",
       "      <td>54.818089</td>\n",
       "      <td>0.032214</td>\n",
       "      <td>2.323329</td>\n",
       "      <td>0.080216</td>\n",
       "      <td>0.098765</td>\n",
       "    </tr>\n",
       "    <tr>\n",
       "      <th>90756</th>\n",
       "      <td>2795</td>\n",
       "      <td>25438</td>\n",
       "      <td>51220</td>\n",
       "      <td>0.000000</td>\n",
       "      <td>0.00000</td>\n",
       "      <td>0.000000</td>\n",
       "      <td>18.491915</td>\n",
       "      <td>0.021229</td>\n",
       "      <td>0.127323</td>\n",
       "      <td>0.050145</td>\n",
       "      <td>0.052756</td>\n",
       "    </tr>\n",
       "    <tr>\n",
       "      <th>90757</th>\n",
       "      <td>24438</td>\n",
       "      <td>30403</td>\n",
       "      <td>6</td>\n",
       "      <td>0.000000</td>\n",
       "      <td>0.00000</td>\n",
       "      <td>0.000000</td>\n",
       "      <td>41.401531</td>\n",
       "      <td>0.185489</td>\n",
       "      <td>1.868733</td>\n",
       "      <td>0.542537</td>\n",
       "      <td>0.335041</td>\n",
       "    </tr>\n",
       "    <tr>\n",
       "      <th>90758</th>\n",
       "      <td>12744</td>\n",
       "      <td>8046</td>\n",
       "      <td>24</td>\n",
       "      <td>0.000000</td>\n",
       "      <td>0.00000</td>\n",
       "      <td>0.000000</td>\n",
       "      <td>42.843399</td>\n",
       "      <td>0.019227</td>\n",
       "      <td>0.166909</td>\n",
       "      <td>0.052295</td>\n",
       "      <td>0.098216</td>\n",
       "    </tr>\n",
       "    <tr>\n",
       "      <th>90759</th>\n",
       "      <td>26980</td>\n",
       "      <td>4708</td>\n",
       "      <td>20</td>\n",
       "      <td>0.000000</td>\n",
       "      <td>0.00000</td>\n",
       "      <td>0.000000</td>\n",
       "      <td>32.222416</td>\n",
       "      <td>0.002385</td>\n",
       "      <td>3.544846</td>\n",
       "      <td>0.091978</td>\n",
       "      <td>0.319874</td>\n",
       "    </tr>\n",
       "  </tbody>\n",
       "</table>\n",
       "<p>90760 rows × 11 columns</p>\n",
       "</div>"
      ],
      "text/plain": [
       "        node  target  preferential_attachment  adamic_adar_index  \\\n",
       "0      13912   14283                      810           0.000000   \n",
       "1      10994    6227                      147           0.000000   \n",
       "2      14438   15220                     2938           1.660754   \n",
       "3       3222     503                     8188           0.000000   \n",
       "4       5986    5482                      264           0.000000   \n",
       "...      ...     ...                      ...                ...   \n",
       "90755  10346    3066                       99           0.000000   \n",
       "90756   2795   25438                    51220           0.000000   \n",
       "90757  24438   30403                        6           0.000000   \n",
       "90758  12744    8046                       24           0.000000   \n",
       "90759  26980    4708                       20           0.000000   \n",
       "\n",
       "       jaccard_coefficient  resource_allocation_index  edge_norm  cosine_sim  \\\n",
       "0                  0.00000                   0.000000  23.111849    0.055539   \n",
       "1                  0.00000                   0.000000  44.643867    0.013747   \n",
       "2                  0.03913                   0.039941  31.180311    0.321913   \n",
       "3                  0.00000                   0.000000  20.721487    0.001409   \n",
       "4                  0.00000                   0.000000  48.946613    0.000000   \n",
       "...                    ...                        ...        ...         ...   \n",
       "90755              0.00000                   0.000000  54.818089    0.032214   \n",
       "90756              0.00000                   0.000000  18.491915    0.021229   \n",
       "90757              0.00000                   0.000000  41.401531    0.185489   \n",
       "90758              0.00000                   0.000000  42.843399    0.019227   \n",
       "90759              0.00000                   0.000000  32.222416    0.002385   \n",
       "\n",
       "       ts-sd_sim  dim0_node  dim0_target  \n",
       "0       0.700737   0.086306     0.095132  \n",
       "1       0.416898   0.081833     0.049614  \n",
       "2       0.140764   0.121149     0.079714  \n",
       "3      25.190176   0.118007     0.097055  \n",
       "4       0.000000   0.000000     0.076010  \n",
       "...          ...        ...          ...  \n",
       "90755   2.323329   0.080216     0.098765  \n",
       "90756   0.127323   0.050145     0.052756  \n",
       "90757   1.868733   0.542537     0.335041  \n",
       "90758   0.166909   0.052295     0.098216  \n",
       "90759   3.544846   0.091978     0.319874  \n",
       "\n",
       "[90760 rows x 11 columns]"
      ]
     },
     "execution_count": 259,
     "metadata": {},
     "output_type": "execute_result"
    }
   ],
   "source": [
    "X_test"
   ]
  },
  {
   "cell_type": "markdown",
   "metadata": {},
   "source": [
    "# 5. Miscellaneous Classifiers"
   ]
  },
  {
   "cell_type": "markdown",
   "metadata": {},
   "source": [
    "#### Data Preparation"
   ]
  },
  {
   "cell_type": "code",
   "execution_count": 241,
   "metadata": {},
   "outputs": [],
   "source": [
    "def Scale(X):\n",
    "    scaled_features = StandardScaler().fit_transform(X.values)\n",
    "    return pd.DataFrame(scaled_features, index = X.index, columns = X.columns)"
   ]
  },
  {
   "cell_type": "code",
   "execution_count": 242,
   "metadata": {},
   "outputs": [],
   "source": [
    "# Data preparation parameters\n",
    "'''Better performance withou scaling'''\n",
    "scale = False "
   ]
  },
  {
   "cell_type": "code",
   "execution_count": 255,
   "metadata": {},
   "outputs": [],
   "source": [
    "# Data preparation\n",
    "\n",
    "\n",
    "if 'node' and 'target' in X_train.columns:\n",
    "    X_train = X_train.drop(columns = ['node', 'target'])\n",
    "if 'node' and 'target' in X_test.columns:\n",
    "    X_test = X_test.drop(columns = ['node', 'target'])\n",
    "    \n",
    "\n",
    "if scale:  \n",
    "    X_train = Scale(X_train)\n",
    "    X_test = Scale(X_test)"
   ]
  },
  {
   "cell_type": "markdown",
   "metadata": {},
   "source": [
    "#### Ensemble Classifiers"
   ]
  },
  {
   "cell_type": "code",
   "execution_count": 42,
   "metadata": {},
   "outputs": [],
   "source": [
    "from sklearn.metrics import f1_score, accuracy_score, precision_score, recall_score\n",
    "from sklearn.metrics import roc_auc_score\n",
    "from sklearn.metrics import precision_recall_fscore_support as score\n",
    "from sklearn.preprocessing import StandardScaler, MinMaxScaler\n",
    "\n",
    "##################################################################################################\n",
    "\n",
    "##Classifiers\n",
    "from sklearn.ensemble import AdaBoostClassifier #begins by fitting a classifier on the original dataset and then fits additional copies of the classifier on the same dataset but where the weights of incorrectly classified instances are adjusted\n",
    "from sklearn.ensemble import BaggingClassifier #Bagging classifier fits base classifiers each on random subsets of the original dataset and aggregate their individual predictions\n",
    "from sklearn.ensemble import ExtraTreesClassifier #Extremely Random Trees: This class implements a meta estimator that fits a number of randomized decision trees (a.k.a. extra-trees) on various sub-samples of the dataset and uses averaging to improve the predictive accuracy and control over-fitting\n",
    "from sklearn.ensemble import GradientBoostingClassifier #GB builds an additive model in a forward stage-wise fashion; it allows for the optimization of arbitrary differentiable loss functions\n",
    "from sklearn.tree import DecisionTreeClassifier\n",
    "from sklearn.ensemble import RandomForestClassifier\n",
    "from sklearn.linear_model import SGDClassifier\n",
    "from sklearn.neighbors import KNeighborsClassifier #Classifier implementing the k-nearest neighbors vote.\n",
    "from sklearn.ensemble import VotingClassifier"
   ]
  },
  {
   "cell_type": "code",
   "execution_count": 171,
   "metadata": {
    "scrolled": true
   },
   "outputs": [],
   "source": [
    "# Classification Models\n",
    "print(\"Summary for classifiers:\")\n",
    "\n",
    "clf = [\n",
    "            [AdaBoostClassifier(), \"AdaBoostClassifier\"],\n",
    "            [BaggingClassifier(), \"BaggingClassifier\"],\n",
    "            [ExtraTreesClassifier(), \"ExtraTreesClassifier\"],\n",
    "            [GradientBoostingClassifier(), \"GradientBoostClassifier\"],\n",
    "            [DecisionTreeClassifier(), \"DecisionTreeClassifier\"],\n",
    "            [RandomForestClassifier(), \"RandomForestClassifier\"]\n",
    "        ]\n",
    "\n",
    "performance_train = {}\n",
    "performance_test = {}\n",
    "    \n",
    "for classifier, clf_name in clf: performance_train[clf_name] = []\n",
    "for classifier, clf_name in clf: performance_test[clf_name] = []\n",
    "\n",
    "    \n",
    "for elem in clf: #Use each classifier in clf\n",
    "    classifier = elem[0]\n",
    "    classifier_name = elem[1]\n",
    "    print(classifier_name)\n",
    "        \n",
    "    try:    \n",
    "        classifier.fit(X_train, y_train)\n",
    "            \n",
    "        y_hat = classifier.predict(X_train)\n",
    "        #Train Scores:\n",
    "        f1_train = f1_score(y_train, y_hat)\n",
    "        accuracy_train = accuracy_score(y_train, y_hat)\n",
    "        precision_train = precision_score(y_train, y_hat)\n",
    "        recall_train = recall_score(y_train, y_hat)\n",
    "        roc_auc_train = roc_auc_score(y_train, y_hat)\n",
    "        #Print train Scores\n",
    "        print(f\"Train scores: \\nf1-score: {round(f1_train,3)}\\tAccuracy: {round(accuracy_train, 3)}\\tPrecision: {round(precision_train,3)}\\tRecall: {round(recall_train,3)}\\tROC-AUC: {round(roc_auc_train,3)}\")\n",
    "        #Sava train scors for comparison\n",
    "        performance_train[classifier_name].append(f1_train)\n",
    "        performance_train[classifier_name].append(accuracy_train)\n",
    "        performance_train[classifier_name].append(precision_train)\n",
    "        performance_train[classifier_name].append(recall_train)\n",
    "        performance_train[classifier_name].append(roc_auc_train)\n",
    "           \n",
    "        y_pred = classifier.predict(X_test)\n",
    "        #Test scores\n",
    "        f1_test = f1_score(y_test, y_pred)\n",
    "        accuracy_test = accuracy_score(y_test, y_pred)\n",
    "        precision_test = precision_score(y_test, y_pred)\n",
    "        recall_test = recall_score(y_test, y_pred)\n",
    "        roc_auc_test = roc_auc_score(y_test, y_pred)\n",
    "        #Print test scores          \n",
    "        print(f\"Test scores: \\nf1-score: {round(f1_test,3)}\\tAccuracy: {round(accuracy_test,3)}\\tPrecision: {round(precision_test,3)}\\tRecall: {round(recall_test,3)}\\tROC-AUC: {round(roc_auc_test,3)}\")\n",
    "          #Save test scores\n",
    "        performance_test[classifier_name].append(f1_test)\n",
    "        performance_test[classifier_name].append(accuracy_test)\n",
    "        performance_test[classifier_name].append(precision_test)\n",
    "        performance_test[classifier_name].append(recall_test)\n",
    "        performance_test[classifier_name].append(roc_auc_test)\n",
    "\n",
    "        print(\"\\n**********************************************************************\")\n",
    "    except ImportError:\n",
    "        print(\"Classifier \\\"\" + classifier_name + \"failed.\")\n",
    "print(\"End\")"
   ]
  },
  {
   "cell_type": "markdown",
   "metadata": {},
   "source": [
    "### tpot auto-ml tool for hyper-parameter selection"
   ]
  },
  {
   "cell_type": "code",
   "execution_count": null,
   "metadata": {},
   "outputs": [],
   "source": [
    "from tpot import TPOTClassifier\n",
    "from sklearn.model_selection import train_test_split\n",
    "from sklearn.metrics import f1_score\n",
    "\n",
    "def tpot (X_train, y_train, X_test = None, y_test = None,\n",
    "          export_file = '../results/models/tpot/exported_pipeline.py', n_jobs = 1):\n",
    "    \n",
    "    if 'node' and 'target' in X_train.columns:\n",
    "        X_train = X_train.drop(columns = ['node', 'target'])\n",
    "    if 'node' and 'target' in X_test.columns:\n",
    "        X_test = X_test.drop(columns = ['node', 'target'])\n",
    "\n",
    "    tpot = TPOTClassifier(generations = 5, population_size = 40, cv=3, verbosity=2, scoring = 'f1', n_jobs=6)\n",
    "\n",
    "    tpot.fit(X_train, y_train)\n",
    "    tpot.export(export_file)\n",
    "    print(tpot.score(X_test, y_test))"
   ]
  },
  {
   "cell_type": "code",
   "execution_count": null,
   "metadata": {},
   "outputs": [],
   "source": [
    "# 1) networkx\n",
    "tpot(X_train, y_train, X_test, y_test, export_file = '../results/models/tpot/nx_exported_pipeline.py',  n_jobs=6)"
   ]
  },
  {
   "cell_type": "code",
   "execution_count": null,
   "metadata": {
    "scrolled": true
   },
   "outputs": [],
   "source": [
    "# 2) node2vec\n",
    "tpot(X_train, y_train, X_test, y_test, export_file = '../results/models/tpot/n2v_exported_pipeline.py',  n_jobs=6)"
   ]
  },
  {
   "cell_type": "markdown",
   "metadata": {},
   "source": [
    "# 6) XGBoost"
   ]
  },
  {
   "cell_type": "code",
   "execution_count": 216,
   "metadata": {},
   "outputs": [],
   "source": [
    "import xgboost\n",
    "\n",
    "from sklearn.model_selection import KFold\n",
    "from sklearn.model_selection import cross_val_score\n",
    "from sklearn.metrics import mean_absolute_error\n",
    "from sklearn.metrics import f1_score\n",
    "from sklearn.metrics import classification_report\n",
    "from sklearn.model_selection import GridSearchCV\n",
    "from xgboost import XGBClassifier\n",
    "\n",
    "def XGB(LR = 0.1, n_est = 1000, max_d = 5, min_c = 1, gm = 0, colsample = 0.8, subs = 1, lambd = 0, alpha = 0):\n",
    "   \n",
    "    xgb_model = XGBClassifier( learning_rate=LR, \n",
    "                                            n_estimators=n_est,\n",
    "                                            max_depth=max_d,\n",
    "                                            min_child_weight=min_c,                         \n",
    "                                            gamma=min_c,\n",
    "                                            colsample_bytree=colsample,\n",
    "                                            subsample=subs,\n",
    "                                            objective ='binary:logistic',                   \n",
    "                                            reg_lambda=lambd,\n",
    "                                            reg_alpha=alpha,\n",
    "                                            scale_pos_weight = 1,\n",
    "                                            tree_method='gpu_hist',\n",
    "                                            seed=42)\n",
    "\n",
    "\n",
    "    xgb_model.fit(X_train,y_train)\n",
    "    y_pred_train = xgb_model.predict(X_train)\n",
    "    y_pred = xgb_model.predict(X_test)\n",
    "\n",
    "\n",
    "    print('performance over the training set: ' + str(f1_score(y_train, y_pred_train)))\n",
    "    print('performance over the test set: ' + str(f1_score(y_test, y_pred)) + '\\n')\n",
    "    print(classification_report(y_test, y_pred))\n",
    "    \n",
    "    \n",
    "    \n",
    "def XGB_tuning (LR = 0.1, n_est = 1000, max_d = 5, min_c = 1, gm = 0, colsample = 0.8, subs = 1,\n",
    "                lambd = 0, alpha = 0, param_test = {'learning_rate':[i/100.0 for i in range(5,20,2)]} ):\n",
    "    \n",
    "    gsearch = GridSearchCV(estimator = XGBClassifier( learning_rate=LR, \n",
    "                                                    n_estimators=n_est,\n",
    "                                                    max_depth=max_d,\n",
    "                                                    min_child_weight=min_c,                         \n",
    "                                                    gamma=min_c,\n",
    "                                                    colsample_bytree=colsample,\n",
    "                                                    subsample = subs,\n",
    "                                                    objective ='binary:logistic',\n",
    "                                                    reg_lambda=lambd,\n",
    "                                                    reg_alpha=alpha,\n",
    "                                                    scale_pos_weight = 1,\n",
    "                                                    tree_method='gpu_hist',\n",
    "                                                    seed=42), \n",
    "                            param_grid = param_test, \n",
    "                            scoring='f1',\n",
    "                            n_jobs=4, \n",
    "                            cv=3)\n",
    "\n",
    "\n",
    "    gsearch.fit(X_train, y_train)\n",
    "    return gsearch"
   ]
  },
  {
   "cell_type": "code",
   "execution_count": 253,
   "metadata": {},
   "outputs": [
    {
     "name": "stdout",
     "output_type": "stream",
     "text": [
      "performance over the training set: 0.9430538351700817\n",
      "performance over the test set: 0.9296854254810671\n",
      "\n",
      "              precision    recall  f1-score   support\n",
      "\n",
      "         0.0       0.88      0.89      0.88     34008\n",
      "         1.0       0.93      0.93      0.93     56752\n",
      "\n",
      "    accuracy                           0.91     90760\n",
      "   macro avg       0.91      0.91      0.91     90760\n",
      "weighted avg       0.91      0.91      0.91     90760\n",
      "\n"
     ]
    }
   ],
   "source": [
    "# STEP 1 - First XGB - A little bit overfitted, but could improve more the training set\n",
    "LearningRate = 0.1\n",
    "n_estimators = 1000\n",
    "\n",
    "# Fix Learning Rate and n_estimators\n",
    "XGB(LearningRate, n_estimators)"
   ]
  },
  {
   "cell_type": "code",
   "execution_count": 222,
   "metadata": {},
   "outputs": [
    {
     "name": "stdout",
     "output_type": "stream",
     "text": [
      "{'max_depth': 5, 'min_child_weight': 1} CV_Score: 0.9394839046193453\n",
      "performance over the training set: 0.9430538351700817\n",
      "performance over the test set: 0.9296854254810671\n",
      "\n",
      "              precision    recall  f1-score   support\n",
      "\n",
      "         0.0       0.88      0.89      0.88     34008\n",
      "         1.0       0.93      0.93      0.93     56752\n",
      "\n",
      "    accuracy                           0.91     90760\n",
      "   macro avg       0.91      0.91      0.91     90760\n",
      "weighted avg       0.91      0.91      0.91     90760\n",
      "\n"
     ]
    }
   ],
   "source": [
    "# STEP 2 - Tuning max_depth and min_child_weight\n",
    "\n",
    "parameters_test = {\n",
    "    'max_depth':range(3,7,2),\n",
    "    'min_child_weight':range(1,7,2)\n",
    "}\n",
    "\n",
    "gsearch2 = XGB_tuning (LR = LearningRate, n_est = n_estimators, param_test=parameters_test)\n",
    "best_max_depth, best_min_child_weight = gsearch2.best_params_['max_depth'], gsearch2.best_params_['min_child_weight']\n",
    "print(f\"{gsearch2.best_params_} CV_Score: {gsearch2.best_score_}\")\n",
    "\n",
    "# Evaluation\n",
    "XGB(LR = LearningRate, n_est = n_estimators, max_d=best_max_depth, min_c= best_min_child_weight)"
   ]
  },
  {
   "cell_type": "code",
   "execution_count": 223,
   "metadata": {},
   "outputs": [
    {
     "name": "stdout",
     "output_type": "stream",
     "text": [
      "{'gamma': 0.1} CV_Score: 0.9419628823916028\n",
      "performance over the training set: 0.9430538351700817\n",
      "performance over the test set: 0.9296854254810671\n",
      "\n",
      "              precision    recall  f1-score   support\n",
      "\n",
      "         0.0       0.88      0.89      0.88     34008\n",
      "         1.0       0.93      0.93      0.93     56752\n",
      "\n",
      "    accuracy                           0.91     90760\n",
      "   macro avg       0.91      0.91      0.91     90760\n",
      "weighted avg       0.91      0.91      0.91     90760\n",
      "\n"
     ]
    }
   ],
   "source": [
    "# STEP 3 - Tuning Gamma \n",
    "parameters_test = { \n",
    "    'gamma':[i/10.0 for i in range(0,5)] \n",
    "}\n",
    "\n",
    "gsearch3 = XGB_tuning (LR = LearningRate, n_est = n_estimators, max_d=best_max_depth, min_c= best_min_child_weight,\n",
    "                      param_test=parameters_test)\n",
    "best_gamma = gsearch3.best_params_['gamma']\n",
    "print(f\"{gsearch3.best_params_} CV_Score: {gsearch3.best_score_}\")\n",
    "\n",
    "# Evaluation\n",
    "XGB(LR = LearningRate, n_est = n_estimators, max_d = best_max_depth, min_c = best_min_child_weight, gm = best_gamma)"
   ]
  },
  {
   "cell_type": "code",
   "execution_count": 224,
   "metadata": {},
   "outputs": [
    {
     "name": "stdout",
     "output_type": "stream",
     "text": [
      "{'colsample_bytree': 1.0, 'subsample': 0.8} CV_Score: 0.9420807720630169\n",
      "performance over the training set: 0.9511781139170005\n",
      "performance over the test set: 0.932613314447592\n",
      "\n",
      "              precision    recall  f1-score   support\n",
      "\n",
      "         0.0       0.88      0.90      0.89     34008\n",
      "         1.0       0.94      0.93      0.93     56752\n",
      "\n",
      "    accuracy                           0.92     90760\n",
      "   macro avg       0.91      0.91      0.91     90760\n",
      "weighted avg       0.92      0.92      0.92     90760\n",
      "\n"
     ]
    }
   ],
   "source": [
    "# STEP 4 - Tuning colsample_bytree and subsaample\n",
    "parameters_test = {\n",
    "    'colsample_bytree':[i/10.0 for i in range(7,11)],\n",
    "    'subsample':[i/10.0 for i in range(7,11)]\n",
    "}\n",
    "\n",
    "gsearch4 = XGB_tuning (LR = LearningRate, n_est = n_estimators, max_d = best_max_depth, min_c = best_min_child_weight,\n",
    "                      gm = best_gamma, param_test=parameters_test)\n",
    "best_colsample_bytree, best_subsample = gsearch4.best_params_['colsample_bytree'], gsearch4.best_params_['subsample']\n",
    "print(f\"{gsearch4.best_params_} CV_Score: {gsearch4.best_score_}\")\n",
    "\n",
    "# Evaluation\n",
    "XGB(LR = LearningRate, n_est = n_estimators, max_d = best_max_depth, \n",
    "                       min_c = best_min_child_weight, gm = best_gamma,  colsample = best_colsample_bytree, \n",
    "                       subs = best_subsample)"
   ]
  },
  {
   "cell_type": "code",
   "execution_count": 225,
   "metadata": {},
   "outputs": [
    {
     "name": "stdout",
     "output_type": "stream",
     "text": [
      "{'reg_alpha': 0.5, 'reg_lambda': 1} CV_Score: 0.942248915070749\n"
     ]
    }
   ],
   "source": [
    "# STEP 5 - Tuning Regularization Parameters\n",
    "# Lambda L2 Regularization\n",
    "# Ampha L1 Regularization\n",
    "\n",
    "parameters_test = {\n",
    "    'reg_lambda':[1e-2, 0.1, 0.5, 1, 2, 10],\n",
    "    'reg_alpha':[1e-2, 0.1, 0.5, 1, 2, 10],\n",
    "}\n",
    "\n",
    "gsearch5 = XGB_tuning (LR = LearningRate, n_est = n_estimators, max_d = best_max_depth, \n",
    "                       min_c = best_min_child_weight, gm = best_gamma,  colsample = best_colsample_bytree, \n",
    "                       subs = best_subsample, param_test=parameters_test)\n",
    "\n",
    "best_reg_lambda, best_reg_alpha = gsearch5.best_params_['reg_lambda'], gsearch5.best_params_['reg_alpha']\n",
    "print(f\"{gsearch5.best_params_} CV_Score: {gsearch5.best_score_}\")"
   ]
  },
  {
   "cell_type": "code",
   "execution_count": 226,
   "metadata": {},
   "outputs": [
    {
     "name": "stdout",
     "output_type": "stream",
     "text": [
      "{'reg_alpha': 0.6, 'reg_lambda': 1} CV_Score: 0.9422734223834537\n",
      "performance over the training set: 0.9505686683234025\n",
      "performance over the test set: 0.9325793977364234\n",
      "\n",
      "              precision    recall  f1-score   support\n",
      "\n",
      "         0.0       0.88      0.90      0.89     34008\n",
      "         1.0       0.94      0.93      0.93     56752\n",
      "\n",
      "    accuracy                           0.92     90760\n",
      "   macro avg       0.91      0.91      0.91     90760\n",
      "weighted avg       0.92      0.92      0.92     90760\n",
      "\n"
     ]
    }
   ],
   "source": [
    "# Closer Look\n",
    "parameters_test = {\n",
    "    'reg_lambda':[best_reg_lambda*0.8, best_reg_lambda, best_reg_lambda*1.2, best_reg_lambda*1.5],\n",
    "    'reg_alpha':[best_reg_alpha*0.8, best_reg_alpha, best_reg_alpha*1.2, best_reg_alpha*1.5]\n",
    "}\n",
    "\n",
    "gsearch5 = XGB_tuning (LR = LearningRate, n_est = n_estimators, max_d = best_max_depth, min_c = best_min_child_weight,\n",
    "                       gm = best_gamma,  colsample = best_colsample_bytree, subs = best_subsample, \n",
    "                       param_test=parameters_test)\n",
    "\n",
    "best_reg_lambda, best_red_alpha = gsearch5.best_params_['reg_lambda'], gsearch5.best_params_['reg_alpha']\n",
    "print(f\"{gsearch5.best_params_} CV_Score: {gsearch5.best_score_}\")\n",
    "\n",
    "# Evaluation\n",
    "XGB(LR = LearningRate, n_est = n_estimators, max_d = best_max_depth, min_c = best_min_child_weight,\n",
    "                       gm = best_gamma,  colsample = best_colsample_bytree, subs = best_subsample, \n",
    "                       lambd = best_reg_lambda, alpha = best_reg_alpha)"
   ]
  },
  {
   "cell_type": "code",
   "execution_count": 254,
   "metadata": {},
   "outputs": [
    {
     "name": "stdout",
     "output_type": "stream",
     "text": [
      "{'learning_rate': 0.04} CV_Score: 0.9433572198701112\n",
      "performance over the training set: 0.9671749851737373\n",
      "performance over the test set: 0.9349446657813192\n",
      "\n",
      "              precision    recall  f1-score   support\n",
      "\n",
      "         0.0       0.89      0.90      0.89     34008\n",
      "         1.0       0.94      0.93      0.93     56752\n",
      "\n",
      "    accuracy                           0.92     90760\n",
      "   macro avg       0.91      0.92      0.91     90760\n",
      "weighted avg       0.92      0.92      0.92     90760\n",
      "\n"
     ]
    }
   ],
   "source": [
    " # STEP 6 - Reducing Learning Rate and Adding More Trees\n",
    "n_estimators = 10000\n",
    "parameters_test = {\n",
    "    'learning_rate':[i/100.0 for i in range(1,10)]\n",
    "}\n",
    "\n",
    "gsearch6 = XGB_tuning (LR = LearningRate, n_est = n_estimators, max_d = best_max_depth, min_c = best_min_child_weight,\n",
    "                       gm = best_gamma,  colsample = best_colsample_bytree, subs = best_subsample, \n",
    "                       lambd = best_reg_lambda, alpha = best_reg_alpha, param_test=parameters_test)\n",
    "\n",
    "LearningRate = gsearch6.best_params_['learning_rate']\n",
    "print(f\"{gsearch6.best_params_} CV_Score: {gsearch6.best_score_}\")\n",
    "\n",
    "\n",
    "# Final Evaluation\n",
    "XGB(LR = LearningRate, n_est = n_estimators, max_d = best_max_depth, min_c = best_min_child_weight,\n",
    "                       gm = best_gamma,  colsample = best_colsample_bytree, subs = best_subsample, \n",
    "                       lambd = best_reg_lambda, alpha = best_reg_alpha)"
   ]
  },
  {
   "cell_type": "markdown",
   "metadata": {},
   "source": [
    "# 6. Submission Prediction"
   ]
  },
  {
   "cell_type": "code",
   "execution_count": null,
   "metadata": {},
   "outputs": [],
   "source": [
    "# Load Testing File\n",
    "X_submission = pd.read_csv('../data/raw/testing.txt', header = None, sep = ' ', names = ['node', 'target'])"
   ]
  },
  {
   "cell_type": "markdown",
   "metadata": {},
   "source": [
    "### Networkx Feature Generation "
   ]
  },
  {
   "cell_type": "code",
   "execution_count": null,
   "metadata": {},
   "outputs": [],
   "source": [
    "# 1) Networkx Features\n",
    "X, X_submission = nxGenerateFeatures(X, X_submission, y)\n",
    "\n",
    "# Save Processed Results\n",
    "SaveData('../data/processed/networkx/', X, X_submission, y)"
   ]
  },
  {
   "cell_type": "code",
   "execution_count": null,
   "metadata": {},
   "outputs": [],
   "source": [
    "# Load Networkx Processed Data\n",
    "X, X_submission, y = LoadData ('../data/processed/networkx/')"
   ]
  },
  {
   "cell_type": "markdown",
   "metadata": {},
   "source": [
    "------\n",
    "### Node2Vec Feature Generation "
   ]
  },
  {
   "cell_type": "code",
   "execution_count": null,
   "metadata": {},
   "outputs": [],
   "source": [
    "# 2) Node2Vec Features\n",
    "try:\n",
    "    X, X_submission = node2VecGenerateFeatures(X, X_submission, y, loadPath = '../results/models/node2vec/emb1.model')\n",
    "except Exception:\n",
    "    X, X_submission = node2VecGenerateFeatures(X, X_submission, y, savePath = '../results/models/node2vec/emb1.model', workers = 12)\n",
    "    pass\n",
    "\n",
    "# Save Processed Results\n",
    "SaveData('../data/processed/node2vec/', X, X_submission, y)"
   ]
  },
  {
   "cell_type": "code",
   "execution_count": null,
   "metadata": {},
   "outputs": [],
   "source": [
    "# Load Node2Vec Processed Data\n",
    "X, X_submission, y = LoadData ('../data/processed/node2vec/')"
   ]
  },
  {
   "cell_type": "markdown",
   "metadata": {},
   "source": [
    "-----\n",
    "### Doc2Vec Feature Generation"
   ]
  },
  {
   "cell_type": "code",
   "execution_count": null,
   "metadata": {},
   "outputs": [],
   "source": []
  },
  {
   "cell_type": "markdown",
   "metadata": {},
   "source": [
    "-------------------------\n",
    "###  Classification Model"
   ]
  },
  {
   "cell_type": "code",
   "execution_count": null,
   "metadata": {},
   "outputs": [],
   "source": [
    "# Data preparation\n",
    "\n",
    "# could be 'or' since these columns are always removed together\n",
    "if 'node' and 'target' in X.columns:\n",
    "    X = X.drop(columns = ['node', 'target'])\n",
    "    \n",
    "if 'node' and 'target' in X_submission.columns:\n",
    "    X_submission = X_submission.drop(columns = ['node', 'target'])"
   ]
  },
  {
   "cell_type": "code",
   "execution_count": null,
   "metadata": {},
   "outputs": [],
   "source": [
    "# Save Results\n",
    "result_file_name = '../results/predictions/predictions.csv'\n",
    "pd.DataFrame(y_pred, columns = ['predicted']).to_csv(result_file_name, sep=',', index=True, index_label='id')"
   ]
  },
  {
   "cell_type": "code",
   "execution_count": null,
   "metadata": {},
   "outputs": [],
   "source": [
    "# Verify Results\n",
    "submission = pd.read_csv(result_file_name, sep=',')\n",
    "submission"
   ]
  },
  {
   "cell_type": "code",
   "execution_count": null,
   "metadata": {},
   "outputs": [],
   "source": [
    "##### REFERENCES ####\n",
    "# https://cs.stanford.edu/~jure/pubs/node2vec-kdd16.pdf\n",
    "# https://github.com/taki0112/Vector_Similarity"
   ]
  }
 ],
 "metadata": {
  "kernelspec": {
   "display_name": "Python 3",
   "language": "python",
   "name": "python3"
  },
  "language_info": {
   "codemirror_mode": {
    "name": "ipython",
    "version": 3
   },
   "file_extension": ".py",
   "mimetype": "text/x-python",
   "name": "python",
   "nbconvert_exporter": "python",
   "pygments_lexer": "ipython3",
   "version": "3.8.5"
  }
 },
 "nbformat": 4,
 "nbformat_minor": 4
}
