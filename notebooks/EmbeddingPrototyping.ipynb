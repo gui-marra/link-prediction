{
 "cells": [
  {
   "cell_type": "markdown",
   "metadata": {},
   "source": [
    "### Previous util functions"
   ]
  },
  {
   "cell_type": "code",
   "execution_count": 81,
   "metadata": {},
   "outputs": [],
   "source": [
    "from sklearn.metrics.pairwise import cosine_similarity as CS\n",
    "import similarity"
   ]
  },
  {
   "cell_type": "code",
   "execution_count": 86,
   "metadata": {},
   "outputs": [],
   "source": [
    "def appendCosineSimilarity (X_train, X_test, embedding, column_name = ''):\n",
    "    \n",
    "    cosine_similarity_train = [ CS(embedding[i].reshape(1, -1), embedding[j].reshape(1, -1))[0][0] for i, j in zip(X_train['node'], X_train['target']) ]\n",
    "    cosine_similarity_test  = [ CS(embedding[i].reshape(1, -1), embedding[j].reshape(1, -1))[0][0] for i, j in zip(X_test['node'], X_test['target']) ]\n",
    "    \n",
    "    X_train[column_name] = cosine_similarity_train\n",
    "    X_test[column_name] = cosine_similarity_test\n",
    "    \n",
    "    return X_train, X_test"
   ]
  },
  {
   "cell_type": "code",
   "execution_count": 124,
   "metadata": {},
   "outputs": [],
   "source": [
    "def appendTS_SS(X_train, X_test, embedding, column_name = '', mult_factor = 1):\n",
    "    \n",
    "    ts_ss = similarity.TS_SS()\n",
    "    ts_score_train = [ ts_ss(embedding[i], embedding[j])*mult_factor for i, j in zip(X_train['node'], X_train['target']) ]\n",
    "    ts_score_test = [ ts_ss(embedding[i], embedding[j])*mult_factor for i, j in zip(X_test['node'], X_test['target']) ]\n",
    "    \n",
    "    X_train[column_name] = ts_score_train\n",
    "    X_test[column_name] = ts_score_test\n",
    "    \n",
    "    X_train = X_train.fillna(value=0)\n",
    "    X_test = X_test.fillna(value=0)\n",
    "        \n",
    "    return X_train, X_test"
   ]
  },
  {
   "cell_type": "markdown",
   "metadata": {},
   "source": [
    "# 1. Node2Vec "
   ]
  },
  {
   "cell_type": "markdown",
   "metadata": {},
   "source": [
    "### Generate Embedding"
   ]
  },
  {
   "cell_type": "code",
   "execution_count": 52,
   "metadata": {},
   "outputs": [],
   "source": [
    "from gensim.models import Word2Vec\n",
    "from node2vec import Node2Vec"
   ]
  },
  {
   "cell_type": "code",
   "execution_count": 53,
   "metadata": {},
   "outputs": [],
   "source": [
    "def n2vecGenerateEmbedding (modelPath, workers = 1):\n",
    "\n",
    "    \n",
    "    DG = CreateGraph(X_train, y_train, directed = True)\n",
    "\n",
    "    # 2.1 Load or Fit model\n",
    "    try:\n",
    "        model = Word2Vec.load(modelPath)\n",
    "    except Exception:\n",
    "        node2vec = Node2Vec(DG, dimensions=100, walk_length=16, num_walks=100, workers=workers)\n",
    "        model = node2vec.fit(window=4, min_count=1)\n",
    "        if savePath:\n",
    "            model.save(modelPath)\n",
    "        pass\n",
    "    \n",
    "    \n",
    "    # Save Embeddings\n",
    "    emb_matrix = [model.wv[str(i)] for i in range(33226)]\n",
    "    pd.DataFrame(emb_matrix).to_csv(\"../results/models/node2vec/emb_matrix.csv\", sep=',', index=False, header=False)\n",
    "            "
   ]
  },
  {
   "cell_type": "code",
   "execution_count": 54,
   "metadata": {},
   "outputs": [],
   "source": [
    "n2vecGenerateEmbedding('../results/models/node2vec/emb_train.model', workers = 12)"
   ]
  },
  {
   "cell_type": "markdown",
   "metadata": {},
   "source": [
    "### Generate Features"
   ]
  },
  {
   "cell_type": "code",
   "execution_count": 112,
   "metadata": {},
   "outputs": [],
   "source": [
    "def n2vecGenerateFeatures (X_train, X_test):\n",
    "    \n",
    "    \n",
    "    try:\n",
    "        n2vec = np.genfromtxt(\"../results/models/node2vec/emb_matrix.csv\", delimiter=',')\n",
    "    except Exception:\n",
    "        n2vecGenerateEmbedding('../results/models/node2vec/emb_train.model', workers = 12)\n",
    "        n2vec = np.genfromtxt(\"../results/models/node2vec/emb_matrix.csv\", delimiter=',')\n",
    "        pass\n",
    "    \n",
    "    X_train, X_test = appendCosineSimilarity(X_train, X_test, embedding=n2vec, column_name='n2vec_cosine_sim')\n",
    "    X_train, X_test = appendTS_SS(X_train, X_test, embedding=n2vec, column_name='n2vec_ts-ss_sim', mult_factor = 1e-2)\n",
    "    \n",
    "    \n",
    "    return X_train, X_test"
   ]
  },
  {
   "cell_type": "code",
   "execution_count": 138,
   "metadata": {},
   "outputs": [],
   "source": [
    "X_train, X_test = n2vecGenerateFeatures(X_train, X_test)\n",
    "\n",
    "# Save Node2Vec Intermediate Results\n",
    "file_io.SaveData('../data/intermediate/node2vec/', X_train, X_test, y_train, y_test)"
   ]
  },
  {
   "cell_type": "code",
   "execution_count": 154,
   "metadata": {},
   "outputs": [],
   "source": [
    "# Load Node2Vec Intermediate Data\n",
    "X_train, X_test, y_train, y_test = file_io.LoadData('../data/intermediate/node2vec/')"
   ]
  }
 ],
 "metadata": {
  "kernelspec": {
   "display_name": "Python 3",
   "language": "python",
   "name": "python3"
  },
  "language_info": {
   "codemirror_mode": {
    "name": "ipython",
    "version": 3
   },
   "file_extension": ".py",
   "mimetype": "text/x-python",
   "name": "python",
   "nbconvert_exporter": "python",
   "pygments_lexer": "ipython3",
   "version": "3.8.5"
  }
 },
 "nbformat": 4,
 "nbformat_minor": 4
}
